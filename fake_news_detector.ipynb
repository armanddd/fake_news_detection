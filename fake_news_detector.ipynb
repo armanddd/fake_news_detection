{
 "cells": [
  {
   "cell_type": "code",
   "execution_count": 1,
   "id": "41d40ea8",
   "metadata": {},
   "outputs": [],
   "source": [
    "import pandas as pd\n",
    "import matplotlib.pyplot as plt\n",
    "\n",
    "import nltk\n",
    "from nltk.corpus import stopwords\n",
    "\n",
    "import string"
   ]
  },
  {
   "cell_type": "code",
   "execution_count": 2,
   "id": "a479aa73",
   "metadata": {},
   "outputs": [],
   "source": [
    "fake_data = pd.read_csv('Fake.csv')\n",
    "true_data = pd.read_csv('True.csv')"
   ]
  },
  {
   "cell_type": "code",
   "execution_count": 3,
   "id": "86607ff4",
   "metadata": {},
   "outputs": [],
   "source": [
    "pd.set_option('display.max_colwidth', None)"
   ]
  },
  {
   "cell_type": "code",
   "execution_count": 4,
   "id": "676bfd2a",
   "metadata": {},
   "outputs": [
    {
     "data": {
      "text/html": [
       "<div>\n",
       "<style scoped>\n",
       "    .dataframe tbody tr th:only-of-type {\n",
       "        vertical-align: middle;\n",
       "    }\n",
       "\n",
       "    .dataframe tbody tr th {\n",
       "        vertical-align: top;\n",
       "    }\n",
       "\n",
       "    .dataframe thead th {\n",
       "        text-align: right;\n",
       "    }\n",
       "</style>\n",
       "<table border=\"1\" class=\"dataframe\">\n",
       "  <thead>\n",
       "    <tr style=\"text-align: right;\">\n",
       "      <th></th>\n",
       "      <th>title</th>\n",
       "      <th>text</th>\n",
       "      <th>subject</th>\n",
       "      <th>date</th>\n",
       "      <th>label</th>\n",
       "      <th>combined</th>\n",
       "    </tr>\n",
       "  </thead>\n",
       "  <tbody>\n",
       "    <tr>\n",
       "      <th>8214</th>\n",
       "      <td>Supreme Court rejects Michigan straight-ticket voting appeal</td>\n",
       "      <td>WASHINGTON (Reuters) - The U.S. Supreme Court on Friday rejected a bid by Michigan to reinstate its Republican-backed ban on straight-ticket voting for the Nov. 8 general election.   The justices left in place a decision by a federal district judge in Michigan who in July suspended a law that abolished straight-ticket voting, the practice of using one mark to vote for all candidates from one party, finding that it would disproportionately affect black voters.  The 6th U.S. Court of Appeals upheld that finding last month, prompting the state to seek a stay from the Supreme Court. Two conservative justices on the eight-member court, Clarence Thomas and Samuel Alito, voted to grant the request, the brief order said.    The Michigan law, passed by a Republican-controlled legislature and signed by a Republican governor, was one of numerous voting measures passed at the state level that put new restrictions on voting. These measures also include stricter voter-identification laws and reduction of early-voting periods before election day. Proponents of the law, enacted in January, have said most states have moved away from a straight-ticket voting option. Removing the option forces voters to study candidates and encourages voters to make decisions based on criteria other than party affiliation, they said. Opponents say voting restrictions are aimed at reducing turnout of minorities, who are more likely to vote for Democrats. U.S. District Judge Gershwin Drain in July granted a preliminary injunction sought by civil rights and labor groups who sued Michigan’s Secretary of State Ruth Johnson and Attorney General Bill Schuette. The judge said elimination of straight-ticket voting would be a burden on voting rights and cause long wait times at polls. After Friday’s decision, Schuette said, “It is my duty to defend Michigan’s laws, in this case a law that stands in 40 other states. Now the U.S. Supreme Court has spoken and I will respect that decision.” The case is one of several voting disputes being litigated ahead of the election and is the second emergency application the Supreme Court has recently been asked to handle. On Aug. 31, the court rejected a bid by North Carolina to reinstate for November’s elections several voting restrictions, including a requirement that people show identification at the polls. The high court is short one justice following the death of conservative Antonin Scalia in February. As a result the court is evenly split 4-4 between liberals and conservatives.</td>\n",
       "      <td>politicsNews</td>\n",
       "      <td>September 9, 2016</td>\n",
       "      <td>1</td>\n",
       "      <td>Supreme Court rejects Michigan straight-ticket voting appeal | WASHINGTON (Reuters) - The U.S. Supreme Court on Friday rejected a bid by Michigan to reinstate its Republican-backed ban on straight-ticket voting for the Nov. 8 general election.   The justices left in place a decision by a federal district judge in Michigan who in July suspended a law that abolished straight-ticket voting, the practice of using one mark to vote for all candidates from one party, finding that it would disproportionately affect black voters.  The 6th U.S. Court of Appeals upheld that finding last month, prompting the state to seek a stay from the Supreme Court. Two conservative justices on the eight-member court, Clarence Thomas and Samuel Alito, voted to grant the request, the brief order said.    The Michigan law, passed by a Republican-controlled legislature and signed by a Republican governor, was one of numerous voting measures passed at the state level that put new restrictions on voting. These measures also include stricter voter-identification laws and reduction of early-voting periods before election day. Proponents of the law, enacted in January, have said most states have moved away from a straight-ticket voting option. Removing the option forces voters to study candidates and encourages voters to make decisions based on criteria other than party affiliation, they said. Opponents say voting restrictions are aimed at reducing turnout of minorities, who are more likely to vote for Democrats. U.S. District Judge Gershwin Drain in July granted a preliminary injunction sought by civil rights and labor groups who sued Michigan’s Secretary of State Ruth Johnson and Attorney General Bill Schuette. The judge said elimination of straight-ticket voting would be a burden on voting rights and cause long wait times at polls. After Friday’s decision, Schuette said, “It is my duty to defend Michigan’s laws, in this case a law that stands in 40 other states. Now the U.S. Supreme Court has spoken and I will respect that decision.” The case is one of several voting disputes being litigated ahead of the election and is the second emergency application the Supreme Court has recently been asked to handle. On Aug. 31, the court rejected a bid by North Carolina to reinstate for November’s elections several voting restrictions, including a requirement that people show identification at the polls. The high court is short one justice following the death of conservative Antonin Scalia in February. As a result the court is evenly split 4-4 between liberals and conservatives.</td>\n",
       "    </tr>\n",
       "    <tr>\n",
       "      <th>7464</th>\n",
       "      <td>Donald Trump Just Posted The Weirdest Ad You’ll See This Entire Election (VIDEO)</td>\n",
       "      <td>Everyone knows that Republican front runner Donald Trump s Twitter account is filled with nonsense and an absolute nightmare for any level-headed American. Trump has successfully funneled all of that bigotry and offensive rhetoric to his Instagram account, as the business mogul has just posted a completely baffling ad meant to insult Hillary Clinton while nearly destroying his friendly relationship with Russian president Vladimir Putin.Trump has previously spoken positively about Putin and defended the Russian leader several times, which won him Putin s support for presidency. But in the ad, it doesn t seem like Trump likes Putin at all   it even seems like he s trying to destroy their mutually respectful bond. In the video, Putin performs MMA-style combat moves for a few seconds before a clip of an ISIS soldier pointing a gun at the camera is shown. The text reads: When it comes to facing our toughest opponents, the Democrats have the perfect answer And right as the text disappears, Trump goes after Democratic opponent Hillary Clinton by showing a clip where Clinton is  barking    which is ironic since Clinton was actually doing this to mock Republicans for not being able to fight  our toughest opponents.  This footage of Clinton is from a campaign rally in February, and happened after telling a story about an old campaign ad that made a dog bark whenever someone lied. Clinton was implying that the GOP candidates were lying through their teeth about several of their claims. Having this clip in Trump s ad is completely out of context, and makes it even more confusing.After the footage of Clinton barking, the video cuts to some really uncomfortable footage of Putin giggling creepily. The last line in the ad reads, We don t need to be a punch line! The ad is about 15 long seconds that make absolutely no sense   just like Trump himself.Is this what we want for a President?A video posted by Donald J. Trump (@realdonaldtrump) on Mar 16, 2016 at 9:15am PDTFor someone who doesn t want America to become a punchline, Trump has done an amazing job making our politics look like a joke. Unfortunately, this video is getting tons of positive attention from Trump s 1.2 million Instagram followers. Since being posted this afternoon, it has already received over 22,000 likes and thousands of comments.Trump has previously railed against Clinton for imitating a dog. During a South Carolina rally, Trump criticized the former Secretary of State, stating that the press would bury him if he acted the same way. He said, If I ever did that, I would be ridiculed all over the place. I won t do it. I m not going to imitate her.  However, we all know that Trump has done far worse.Given that Trump has a history of misogyny and attacks on women, this strange anti-Clinton ad is nothing new. And it makes about just as much sense as he does. Featured image via Evan Guest / Flickr</td>\n",
       "      <td>News</td>\n",
       "      <td>March 16, 2016</td>\n",
       "      <td>0</td>\n",
       "      <td>Donald Trump Just Posted The Weirdest Ad You’ll See This Entire Election (VIDEO) | Everyone knows that Republican front runner Donald Trump s Twitter account is filled with nonsense and an absolute nightmare for any level-headed American. Trump has successfully funneled all of that bigotry and offensive rhetoric to his Instagram account, as the business mogul has just posted a completely baffling ad meant to insult Hillary Clinton while nearly destroying his friendly relationship with Russian president Vladimir Putin.Trump has previously spoken positively about Putin and defended the Russian leader several times, which won him Putin s support for presidency. But in the ad, it doesn t seem like Trump likes Putin at all   it even seems like he s trying to destroy their mutually respectful bond. In the video, Putin performs MMA-style combat moves for a few seconds before a clip of an ISIS soldier pointing a gun at the camera is shown. The text reads: When it comes to facing our toughest opponents, the Democrats have the perfect answer And right as the text disappears, Trump goes after Democratic opponent Hillary Clinton by showing a clip where Clinton is  barking    which is ironic since Clinton was actually doing this to mock Republicans for not being able to fight  our toughest opponents.  This footage of Clinton is from a campaign rally in February, and happened after telling a story about an old campaign ad that made a dog bark whenever someone lied. Clinton was implying that the GOP candidates were lying through their teeth about several of their claims. Having this clip in Trump s ad is completely out of context, and makes it even more confusing.After the footage of Clinton barking, the video cuts to some really uncomfortable footage of Putin giggling creepily. The last line in the ad reads, We don t need to be a punch line! The ad is about 15 long seconds that make absolutely no sense   just like Trump himself.Is this what we want for a President?A video posted by Donald J. Trump (@realdonaldtrump) on Mar 16, 2016 at 9:15am PDTFor someone who doesn t want America to become a punchline, Trump has done an amazing job making our politics look like a joke. Unfortunately, this video is getting tons of positive attention from Trump s 1.2 million Instagram followers. Since being posted this afternoon, it has already received over 22,000 likes and thousands of comments.Trump has previously railed against Clinton for imitating a dog. During a South Carolina rally, Trump criticized the former Secretary of State, stating that the press would bury him if he acted the same way. He said, If I ever did that, I would be ridiculed all over the place. I won t do it. I m not going to imitate her.  However, we all know that Trump has done far worse.Given that Trump has a history of misogyny and attacks on women, this strange anti-Clinton ad is nothing new. And it makes about just as much sense as he does. Featured image via Evan Guest / Flickr</td>\n",
       "    </tr>\n",
       "    <tr>\n",
       "      <th>17634</th>\n",
       "      <td>MUST READ: I’m Still Trying To Figure Out How Hillary Lost The Election…</td>\n",
       "      <td>Once you ve read this list, you re going to want to share this with everyone you know! Was it the Russian Uranium Deal? Was it Wikileaks? Was it Podesta? Was it Comey? Was it having a sexual predator as a husband? Was it Huma Abedin s sexual predator husband Anthony Weiner? Was it because the Clinton Foundation ripped off Haiti? Was it subpoena violations? Was it the congressional testimony lies? Was it the corrupt Clinton Foundation? Was it the Benghazi butchering? Was it pay for play?Was it being recorded laughing because she got a child rapist off when she was an attorney? Was it the Travel Gate scandal? Was it the Whitewater scandal? Was it the Cattle Gate scandal? Was it the Trooper-Gate scandal? OR . Was it the $15 million for Chelsea s apartment bought with foundation money? Or her husband s interference with Loretta Lynch &amp; the investigation? Or having debate questions stolen &amp; given to her? Or her own secret server in her house? Or deleting 30,000 emails? Or having cell phones destroyed with hammers? Was it the Seth Rich murder?Was it the Vince Foster murder? Was it the Gennifer Flowers assault &amp; settlement? Was it the $800,000 Paula Jones settlement? Was it calling half the United States deplorable? Was it the underhanded treatment of Bernie Sanders?Was it Bill s impeachment? Was it the lie about being under sniper fire in Bosnia?Was it the $10 million she took for the pardon of Marc Rich? Or the $6 BILLION she  lost  when in charge of the State Dept.? Or because she is a hateful, lying, power-hungry, overly ambitious, greedy, nasty person? Gee I just can t seem to put my finger on it -Author unknown</td>\n",
       "      <td>left-news</td>\n",
       "      <td>Nov 17, 2017</td>\n",
       "      <td>0</td>\n",
       "      <td>MUST READ: I’m Still Trying To Figure Out How Hillary Lost The Election… | Once you ve read this list, you re going to want to share this with everyone you know! Was it the Russian Uranium Deal? Was it Wikileaks? Was it Podesta? Was it Comey? Was it having a sexual predator as a husband? Was it Huma Abedin s sexual predator husband Anthony Weiner? Was it because the Clinton Foundation ripped off Haiti? Was it subpoena violations? Was it the congressional testimony lies? Was it the corrupt Clinton Foundation? Was it the Benghazi butchering? Was it pay for play?Was it being recorded laughing because she got a child rapist off when she was an attorney? Was it the Travel Gate scandal? Was it the Whitewater scandal? Was it the Cattle Gate scandal? Was it the Trooper-Gate scandal? OR . Was it the $15 million for Chelsea s apartment bought with foundation money? Or her husband s interference with Loretta Lynch &amp; the investigation? Or having debate questions stolen &amp; given to her? Or her own secret server in her house? Or deleting 30,000 emails? Or having cell phones destroyed with hammers? Was it the Seth Rich murder?Was it the Vince Foster murder? Was it the Gennifer Flowers assault &amp; settlement? Was it the $800,000 Paula Jones settlement? Was it calling half the United States deplorable? Was it the underhanded treatment of Bernie Sanders?Was it Bill s impeachment? Was it the lie about being under sniper fire in Bosnia?Was it the $10 million she took for the pardon of Marc Rich? Or the $6 BILLION she  lost  when in charge of the State Dept.? Or because she is a hateful, lying, power-hungry, overly ambitious, greedy, nasty person? Gee I just can t seem to put my finger on it -Author unknown</td>\n",
       "    </tr>\n",
       "    <tr>\n",
       "      <th>9453</th>\n",
       "      <td>INCREDIBLE! Vietnam Veteran Cries on President Trump’s Shoulder During Speech: ‘Our Veterans are a National Treasure’ [Video]</td>\n",
       "      <td>President Trump hits it out of the park! He just delivered another great speech to Vietnam veterans in Danang, Vietnam He let the veterans say a few words too a great moment!PRESIDENT TRUMP:I m very honored to be representing our country, and I will say that, when you speak of honors, one of my great honors is to present the people standing right behind me   great, great warriors and veterans of the Vietnam War.Our veterans are a national treasure, and I thank them all for their service, sacrifice, and patriotism.To each of you with me today, you are the heroes who fulfill your duty to our nation. And each of you, under the most difficult conditions, did what you had to do, and you did it well. My administration, as you all know, is committed to rebuilding our military and honoring the hard work and sacrifices of all veterans. We re extremely proud of what we ve done with the Veterans Administration. Dr. Shulkin has done an amazing job with choice and accountability and so many other things that we are doing and in the process of doing. The Veterans Administration is a whole different place.Our accountability efforts in Vietnam are very, very important to all of us. We will not rest until all of the 1,253 missing veterans are returned home. I want to thank the government of Vietnam for their assistance in our efforts.Today, I m signing a proclamation to honor the veterans of the Vietnam War.</td>\n",
       "      <td>politics</td>\n",
       "      <td>Nov 11, 2017</td>\n",
       "      <td>0</td>\n",
       "      <td>INCREDIBLE! Vietnam Veteran Cries on President Trump’s Shoulder During Speech: ‘Our Veterans are a National Treasure’ [Video] | President Trump hits it out of the park! He just delivered another great speech to Vietnam veterans in Danang, Vietnam He let the veterans say a few words too a great moment!PRESIDENT TRUMP:I m very honored to be representing our country, and I will say that, when you speak of honors, one of my great honors is to present the people standing right behind me   great, great warriors and veterans of the Vietnam War.Our veterans are a national treasure, and I thank them all for their service, sacrifice, and patriotism.To each of you with me today, you are the heroes who fulfill your duty to our nation. And each of you, under the most difficult conditions, did what you had to do, and you did it well. My administration, as you all know, is committed to rebuilding our military and honoring the hard work and sacrifices of all veterans. We re extremely proud of what we ve done with the Veterans Administration. Dr. Shulkin has done an amazing job with choice and accountability and so many other things that we are doing and in the process of doing. The Veterans Administration is a whole different place.Our accountability efforts in Vietnam are very, very important to all of us. We will not rest until all of the 1,253 missing veterans are returned home. I want to thank the government of Vietnam for their assistance in our efforts.Today, I m signing a proclamation to honor the veterans of the Vietnam War.</td>\n",
       "    </tr>\n",
       "    <tr>\n",
       "      <th>19668</th>\n",
       "      <td>HILLARY Mentions Support For Country She And Bill Screwed…Starts Coughing Again…”It Chokes Me Up” [VIDEO]</td>\n",
       "      <td>Watch:Here s the truth about the Clinton Foundation and how they  helped  the Haitians:https://youtu.be/26GC23zZi2A</td>\n",
       "      <td>left-news</td>\n",
       "      <td>Nov 6, 2016</td>\n",
       "      <td>0</td>\n",
       "      <td>HILLARY Mentions Support For Country She And Bill Screwed…Starts Coughing Again…”It Chokes Me Up” [VIDEO] | Watch:Here s the truth about the Clinton Foundation and how they  helped  the Haitians:https://youtu.be/26GC23zZi2A</td>\n",
       "    </tr>\n",
       "  </tbody>\n",
       "</table>\n",
       "</div>"
      ],
      "text/plain": [
       "                                                                                                                               title  \\\n",
       "8214                                                                    Supreme Court rejects Michigan straight-ticket voting appeal   \n",
       "7464                                                Donald Trump Just Posted The Weirdest Ad You’ll See This Entire Election (VIDEO)   \n",
       "17634                                                       MUST READ: I’m Still Trying To Figure Out How Hillary Lost The Election…   \n",
       "9453   INCREDIBLE! Vietnam Veteran Cries on President Trump’s Shoulder During Speech: ‘Our Veterans are a National Treasure’ [Video]   \n",
       "19668                      HILLARY Mentions Support For Country She And Bill Screwed…Starts Coughing Again…”It Chokes Me Up” [VIDEO]   \n",
       "\n",
       "                                                                                                                                                                                                                                                                                                                                                                                                                                                                                                                                                                                                                                                                                                                                                                                                                                                                                                                                                                                                                                                                                                                                                                                                                                                                                                                                                                                                                                                                                                                                                                                                                                                                                                                                                                                                                                                                                                                                                                                                                                                                                                                                                                                                                                                                                                                                                                                                                                                                                                                                                                                                                                                                                                                                                                                                                                                                                                                                                                                                                     text  \\\n",
       "8214                                                                                                                                                                                                                                                                                                                                                                                             WASHINGTON (Reuters) - The U.S. Supreme Court on Friday rejected a bid by Michigan to reinstate its Republican-backed ban on straight-ticket voting for the Nov. 8 general election.   The justices left in place a decision by a federal district judge in Michigan who in July suspended a law that abolished straight-ticket voting, the practice of using one mark to vote for all candidates from one party, finding that it would disproportionately affect black voters.  The 6th U.S. Court of Appeals upheld that finding last month, prompting the state to seek a stay from the Supreme Court. Two conservative justices on the eight-member court, Clarence Thomas and Samuel Alito, voted to grant the request, the brief order said.    The Michigan law, passed by a Republican-controlled legislature and signed by a Republican governor, was one of numerous voting measures passed at the state level that put new restrictions on voting. These measures also include stricter voter-identification laws and reduction of early-voting periods before election day. Proponents of the law, enacted in January, have said most states have moved away from a straight-ticket voting option. Removing the option forces voters to study candidates and encourages voters to make decisions based on criteria other than party affiliation, they said. Opponents say voting restrictions are aimed at reducing turnout of minorities, who are more likely to vote for Democrats. U.S. District Judge Gershwin Drain in July granted a preliminary injunction sought by civil rights and labor groups who sued Michigan’s Secretary of State Ruth Johnson and Attorney General Bill Schuette. The judge said elimination of straight-ticket voting would be a burden on voting rights and cause long wait times at polls. After Friday’s decision, Schuette said, “It is my duty to defend Michigan’s laws, in this case a law that stands in 40 other states. Now the U.S. Supreme Court has spoken and I will respect that decision.” The case is one of several voting disputes being litigated ahead of the election and is the second emergency application the Supreme Court has recently been asked to handle. On Aug. 31, the court rejected a bid by North Carolina to reinstate for November’s elections several voting restrictions, including a requirement that people show identification at the polls. The high court is short one justice following the death of conservative Antonin Scalia in February. As a result the court is evenly split 4-4 between liberals and conservatives.    \n",
       "7464   Everyone knows that Republican front runner Donald Trump s Twitter account is filled with nonsense and an absolute nightmare for any level-headed American. Trump has successfully funneled all of that bigotry and offensive rhetoric to his Instagram account, as the business mogul has just posted a completely baffling ad meant to insult Hillary Clinton while nearly destroying his friendly relationship with Russian president Vladimir Putin.Trump has previously spoken positively about Putin and defended the Russian leader several times, which won him Putin s support for presidency. But in the ad, it doesn t seem like Trump likes Putin at all   it even seems like he s trying to destroy their mutually respectful bond. In the video, Putin performs MMA-style combat moves for a few seconds before a clip of an ISIS soldier pointing a gun at the camera is shown. The text reads: When it comes to facing our toughest opponents, the Democrats have the perfect answer And right as the text disappears, Trump goes after Democratic opponent Hillary Clinton by showing a clip where Clinton is  barking    which is ironic since Clinton was actually doing this to mock Republicans for not being able to fight  our toughest opponents.  This footage of Clinton is from a campaign rally in February, and happened after telling a story about an old campaign ad that made a dog bark whenever someone lied. Clinton was implying that the GOP candidates were lying through their teeth about several of their claims. Having this clip in Trump s ad is completely out of context, and makes it even more confusing.After the footage of Clinton barking, the video cuts to some really uncomfortable footage of Putin giggling creepily. The last line in the ad reads, We don t need to be a punch line! The ad is about 15 long seconds that make absolutely no sense   just like Trump himself.Is this what we want for a President?A video posted by Donald J. Trump (@realdonaldtrump) on Mar 16, 2016 at 9:15am PDTFor someone who doesn t want America to become a punchline, Trump has done an amazing job making our politics look like a joke. Unfortunately, this video is getting tons of positive attention from Trump s 1.2 million Instagram followers. Since being posted this afternoon, it has already received over 22,000 likes and thousands of comments.Trump has previously railed against Clinton for imitating a dog. During a South Carolina rally, Trump criticized the former Secretary of State, stating that the press would bury him if he acted the same way. He said, If I ever did that, I would be ridiculed all over the place. I won t do it. I m not going to imitate her.  However, we all know that Trump has done far worse.Given that Trump has a history of misogyny and attacks on women, this strange anti-Clinton ad is nothing new. And it makes about just as much sense as he does. Featured image via Evan Guest / Flickr   \n",
       "17634                                                                                                                                                                                                                                                                                                                                                                                                                                                                                                                                                                                                                                                                                                                                                                                                                                                                                                                                                                                                                                                                                                                                                                                                                                                                                                               Once you ve read this list, you re going to want to share this with everyone you know! Was it the Russian Uranium Deal? Was it Wikileaks? Was it Podesta? Was it Comey? Was it having a sexual predator as a husband? Was it Huma Abedin s sexual predator husband Anthony Weiner? Was it because the Clinton Foundation ripped off Haiti? Was it subpoena violations? Was it the congressional testimony lies? Was it the corrupt Clinton Foundation? Was it the Benghazi butchering? Was it pay for play?Was it being recorded laughing because she got a child rapist off when she was an attorney? Was it the Travel Gate scandal? Was it the Whitewater scandal? Was it the Cattle Gate scandal? Was it the Trooper-Gate scandal? OR . Was it the $15 million for Chelsea s apartment bought with foundation money? Or her husband s interference with Loretta Lynch & the investigation? Or having debate questions stolen & given to her? Or her own secret server in her house? Or deleting 30,000 emails? Or having cell phones destroyed with hammers? Was it the Seth Rich murder?Was it the Vince Foster murder? Was it the Gennifer Flowers assault & settlement? Was it the $800,000 Paula Jones settlement? Was it calling half the United States deplorable? Was it the underhanded treatment of Bernie Sanders?Was it Bill s impeachment? Was it the lie about being under sniper fire in Bosnia?Was it the $10 million she took for the pardon of Marc Rich? Or the $6 BILLION she  lost  when in charge of the State Dept.? Or because she is a hateful, lying, power-hungry, overly ambitious, greedy, nasty person? Gee I just can t seem to put my finger on it -Author unknown   \n",
       "9453                                                                                                                                                                                                                                                                                                                                                                                                                                                                                                                                                                                                                                                                                                                                                                                                                                                                                                                                                                                                                                                                                                                                                                                                                                                                                                                                                                                                                                                                                                                                               President Trump hits it out of the park! He just delivered another great speech to Vietnam veterans in Danang, Vietnam He let the veterans say a few words too a great moment!PRESIDENT TRUMP:I m very honored to be representing our country, and I will say that, when you speak of honors, one of my great honors is to present the people standing right behind me   great, great warriors and veterans of the Vietnam War.Our veterans are a national treasure, and I thank them all for their service, sacrifice, and patriotism.To each of you with me today, you are the heroes who fulfill your duty to our nation. And each of you, under the most difficult conditions, did what you had to do, and you did it well. My administration, as you all know, is committed to rebuilding our military and honoring the hard work and sacrifices of all veterans. We re extremely proud of what we ve done with the Veterans Administration. Dr. Shulkin has done an amazing job with choice and accountability and so many other things that we are doing and in the process of doing. The Veterans Administration is a whole different place.Our accountability efforts in Vietnam are very, very important to all of us. We will not rest until all of the 1,253 missing veterans are returned home. I want to thank the government of Vietnam for their assistance in our efforts.Today, I m signing a proclamation to honor the veterans of the Vietnam War.   \n",
       "19668                                                                                                                                                                                                                                                                                                                                                                                                                                                                                                                                                                                                                                                                                                                                                                                                                                                                                                                                                                                                                                                                                                                                                                                                                                                                                                                                                                                                                                                                                                                                                                                                                                                                                                                                                                                                                                                                                                                                                                                                                                                                                                                                                                                                                                                                                                                                                                                                                                                                                                                                                                                                                                                                                                                                                                                                                                                                                                Watch:Here s the truth about the Clinton Foundation and how they  helped  the Haitians:https://youtu.be/26GC23zZi2A    \n",
       "\n",
       "            subject                date  label  \\\n",
       "8214   politicsNews  September 9, 2016       1   \n",
       "7464           News      March 16, 2016      0   \n",
       "17634     left-news        Nov 17, 2017      0   \n",
       "9453       politics        Nov 11, 2017      0   \n",
       "19668     left-news         Nov 6, 2016      0   \n",
       "\n",
       "                                                                                                                                                                                                                                                                                                                                                                                                                                                                                                                                                                                                                                                                                                                                                                                                                                                                                                                                                                                                                                                                                                                                                                                                                                                                                                                                                                                                                                                                                                                                                                                                                                                                                                                                                                                                                                                                                                                                                                                                                                                                                                                                                                                                                                                                                                                                                                                                                                                                                                                                                                                                                                                                                                                                                                                                                                                                                                                                                                                                                                                                                                     combined  \n",
       "8214                                                                                                                                                                                                                                                                                                                                                                                                                  Supreme Court rejects Michigan straight-ticket voting appeal | WASHINGTON (Reuters) - The U.S. Supreme Court on Friday rejected a bid by Michigan to reinstate its Republican-backed ban on straight-ticket voting for the Nov. 8 general election.   The justices left in place a decision by a federal district judge in Michigan who in July suspended a law that abolished straight-ticket voting, the practice of using one mark to vote for all candidates from one party, finding that it would disproportionately affect black voters.  The 6th U.S. Court of Appeals upheld that finding last month, prompting the state to seek a stay from the Supreme Court. Two conservative justices on the eight-member court, Clarence Thomas and Samuel Alito, voted to grant the request, the brief order said.    The Michigan law, passed by a Republican-controlled legislature and signed by a Republican governor, was one of numerous voting measures passed at the state level that put new restrictions on voting. These measures also include stricter voter-identification laws and reduction of early-voting periods before election day. Proponents of the law, enacted in January, have said most states have moved away from a straight-ticket voting option. Removing the option forces voters to study candidates and encourages voters to make decisions based on criteria other than party affiliation, they said. Opponents say voting restrictions are aimed at reducing turnout of minorities, who are more likely to vote for Democrats. U.S. District Judge Gershwin Drain in July granted a preliminary injunction sought by civil rights and labor groups who sued Michigan’s Secretary of State Ruth Johnson and Attorney General Bill Schuette. The judge said elimination of straight-ticket voting would be a burden on voting rights and cause long wait times at polls. After Friday’s decision, Schuette said, “It is my duty to defend Michigan’s laws, in this case a law that stands in 40 other states. Now the U.S. Supreme Court has spoken and I will respect that decision.” The case is one of several voting disputes being litigated ahead of the election and is the second emergency application the Supreme Court has recently been asked to handle. On Aug. 31, the court rejected a bid by North Carolina to reinstate for November’s elections several voting restrictions, including a requirement that people show identification at the polls. The high court is short one justice following the death of conservative Antonin Scalia in February. As a result the court is evenly split 4-4 between liberals and conservatives.   \n",
       "7464    Donald Trump Just Posted The Weirdest Ad You’ll See This Entire Election (VIDEO) | Everyone knows that Republican front runner Donald Trump s Twitter account is filled with nonsense and an absolute nightmare for any level-headed American. Trump has successfully funneled all of that bigotry and offensive rhetoric to his Instagram account, as the business mogul has just posted a completely baffling ad meant to insult Hillary Clinton while nearly destroying his friendly relationship with Russian president Vladimir Putin.Trump has previously spoken positively about Putin and defended the Russian leader several times, which won him Putin s support for presidency. But in the ad, it doesn t seem like Trump likes Putin at all   it even seems like he s trying to destroy their mutually respectful bond. In the video, Putin performs MMA-style combat moves for a few seconds before a clip of an ISIS soldier pointing a gun at the camera is shown. The text reads: When it comes to facing our toughest opponents, the Democrats have the perfect answer And right as the text disappears, Trump goes after Democratic opponent Hillary Clinton by showing a clip where Clinton is  barking    which is ironic since Clinton was actually doing this to mock Republicans for not being able to fight  our toughest opponents.  This footage of Clinton is from a campaign rally in February, and happened after telling a story about an old campaign ad that made a dog bark whenever someone lied. Clinton was implying that the GOP candidates were lying through their teeth about several of their claims. Having this clip in Trump s ad is completely out of context, and makes it even more confusing.After the footage of Clinton barking, the video cuts to some really uncomfortable footage of Putin giggling creepily. The last line in the ad reads, We don t need to be a punch line! The ad is about 15 long seconds that make absolutely no sense   just like Trump himself.Is this what we want for a President?A video posted by Donald J. Trump (@realdonaldtrump) on Mar 16, 2016 at 9:15am PDTFor someone who doesn t want America to become a punchline, Trump has done an amazing job making our politics look like a joke. Unfortunately, this video is getting tons of positive attention from Trump s 1.2 million Instagram followers. Since being posted this afternoon, it has already received over 22,000 likes and thousands of comments.Trump has previously railed against Clinton for imitating a dog. During a South Carolina rally, Trump criticized the former Secretary of State, stating that the press would bury him if he acted the same way. He said, If I ever did that, I would be ridiculed all over the place. I won t do it. I m not going to imitate her.  However, we all know that Trump has done far worse.Given that Trump has a history of misogyny and attacks on women, this strange anti-Clinton ad is nothing new. And it makes about just as much sense as he does. Featured image via Evan Guest / Flickr  \n",
       "17634                                                                                                                                                                                                                                                                                                                                                                                                                                                                                                                                                                                                                                                                                                                                                                                                                                                                                                                                                                                                                                                                                                                                                                                                                                                                                                                        MUST READ: I’m Still Trying To Figure Out How Hillary Lost The Election… | Once you ve read this list, you re going to want to share this with everyone you know! Was it the Russian Uranium Deal? Was it Wikileaks? Was it Podesta? Was it Comey? Was it having a sexual predator as a husband? Was it Huma Abedin s sexual predator husband Anthony Weiner? Was it because the Clinton Foundation ripped off Haiti? Was it subpoena violations? Was it the congressional testimony lies? Was it the corrupt Clinton Foundation? Was it the Benghazi butchering? Was it pay for play?Was it being recorded laughing because she got a child rapist off when she was an attorney? Was it the Travel Gate scandal? Was it the Whitewater scandal? Was it the Cattle Gate scandal? Was it the Trooper-Gate scandal? OR . Was it the $15 million for Chelsea s apartment bought with foundation money? Or her husband s interference with Loretta Lynch & the investigation? Or having debate questions stolen & given to her? Or her own secret server in her house? Or deleting 30,000 emails? Or having cell phones destroyed with hammers? Was it the Seth Rich murder?Was it the Vince Foster murder? Was it the Gennifer Flowers assault & settlement? Was it the $800,000 Paula Jones settlement? Was it calling half the United States deplorable? Was it the underhanded treatment of Bernie Sanders?Was it Bill s impeachment? Was it the lie about being under sniper fire in Bosnia?Was it the $10 million she took for the pardon of Marc Rich? Or the $6 BILLION she  lost  when in charge of the State Dept.? Or because she is a hateful, lying, power-hungry, overly ambitious, greedy, nasty person? Gee I just can t seem to put my finger on it -Author unknown  \n",
       "9453                                                                                                                                                                                                                                                                                                                                                                                                                                                                                                                                                                                                                                                                                                                                                                                                                                                                                                                                                                                                                                                                                                                                                                                                                                                                                                                                                                                                                                                                                                   INCREDIBLE! Vietnam Veteran Cries on President Trump’s Shoulder During Speech: ‘Our Veterans are a National Treasure’ [Video] | President Trump hits it out of the park! He just delivered another great speech to Vietnam veterans in Danang, Vietnam He let the veterans say a few words too a great moment!PRESIDENT TRUMP:I m very honored to be representing our country, and I will say that, when you speak of honors, one of my great honors is to present the people standing right behind me   great, great warriors and veterans of the Vietnam War.Our veterans are a national treasure, and I thank them all for their service, sacrifice, and patriotism.To each of you with me today, you are the heroes who fulfill your duty to our nation. And each of you, under the most difficult conditions, did what you had to do, and you did it well. My administration, as you all know, is committed to rebuilding our military and honoring the hard work and sacrifices of all veterans. We re extremely proud of what we ve done with the Veterans Administration. Dr. Shulkin has done an amazing job with choice and accountability and so many other things that we are doing and in the process of doing. The Veterans Administration is a whole different place.Our accountability efforts in Vietnam are very, very important to all of us. We will not rest until all of the 1,253 missing veterans are returned home. I want to thank the government of Vietnam for their assistance in our efforts.Today, I m signing a proclamation to honor the veterans of the Vietnam War.  \n",
       "19668                                                                                                                                                                                                                                                                                                                                                                                                                                                                                                                                                                                                                                                                                                                                                                                                                                                                                                                                                                                                                                                                                                                                                                                                                                                                                                                                                                                                                                                                                                                                                                                                                                                                                                                                                                                                                                                                                                                                                                                                                                                                                                                                                                                                                                                                                                                                                                                                                                                                                                                                                                                                                                                                                                                                                                                                                                                                        HILLARY Mentions Support For Country She And Bill Screwed…Starts Coughing Again…”It Chokes Me Up” [VIDEO] | Watch:Here s the truth about the Clinton Foundation and how they  helped  the Haitians:https://youtu.be/26GC23zZi2A   "
      ]
     },
     "execution_count": 4,
     "metadata": {},
     "output_type": "execute_result"
    }
   ],
   "source": [
    "#concatenation des 2 data sets avec leurs target\n",
    "true_data['label'] = 1\n",
    "fake_data['label'] = 0\n",
    "df = true_data.append(fake_data).sample(frac=1)\n",
    "df[\"combined\"] = df['title'] + ' | ' + df['text']\n",
    "df.tail()"
   ]
  },
  {
   "cell_type": "code",
   "execution_count": 5,
   "id": "a0cb4e19",
   "metadata": {},
   "outputs": [
    {
     "data": {
      "image/png": "[encoded data removed]",
      "text/plain": [
       "<Figure size 432x288 with 1 Axes>"
      ]
     },
     "metadata": {},
     "output_type": "display_data"
    }
   ],
   "source": [
    "#pie chart pour voir si le data set est bien reparti\n",
    "fig1, ax1 = plt.subplots()\n",
    "ax1.pie([true_data.shape[0], fake_data.shape[0]], labels=('True', 'Fake'), autopct='%1.1f%%',\n",
    "        shadow=True, startangle=90)\n",
    "\n",
    "plt.show()"
   ]
  },
  {
   "cell_type": "code",
   "execution_count": 6,
   "id": "1d10fdef",
   "metadata": {},
   "outputs": [
    {
     "data": {
      "text/plain": [
       "(44898, 6)"
      ]
     },
     "execution_count": 6,
     "metadata": {},
     "output_type": "execute_result"
    }
   ],
   "source": [
    "df.shape"
   ]
  },
  {
   "cell_type": "code",
   "execution_count": 7,
   "id": "6a2487b2",
   "metadata": {},
   "outputs": [
    {
     "data": {
      "text/plain": [
       "(38646, 6)"
      ]
     },
     "execution_count": 7,
     "metadata": {},
     "output_type": "execute_result"
    }
   ],
   "source": [
    "df.drop_duplicates(subset=[\"text\"], inplace=True)\n",
    "#df[df.duplicated() == True]\n",
    "df.shape"
   ]
  },
  {
   "cell_type": "code",
   "execution_count": 8,
   "id": "54303b44",
   "metadata": {},
   "outputs": [
    {
     "data": {
      "text/plain": [
       "title       0\n",
       "text        0\n",
       "subject     0\n",
       "date        0\n",
       "label       0\n",
       "combined    0\n",
       "dtype: int64"
      ]
     },
     "execution_count": 8,
     "metadata": {},
     "output_type": "execute_result"
    }
   ],
   "source": [
    "df.isnull().sum()"
   ]
  },
  {
   "cell_type": "code",
   "execution_count": 9,
   "id": "a3736869",
   "metadata": {},
   "outputs": [],
   "source": [
    "def process_text(text):\n",
    "    nopunc = [char for char in text if char not in string.punctuation]\n",
    "    nopunc = \"\".join(nopunc)\n",
    "    \n",
    "    return [word for word in nopunc.split() if word.lower() not in stopwords.words('english')]"
   ]
  },
  {
   "cell_type": "code",
   "execution_count": 10,
   "id": "94a92192",
   "metadata": {},
   "outputs": [],
   "source": [
    "from sklearn.feature_extraction.text import CountVectorizer\n",
    "\n",
    "cv = CountVectorizer(analyzer=process_text)\n",
    "message_bow = cv.fit_transform(df['combined'])"
   ]
  },
  {
   "cell_type": "code",
   "execution_count": 11,
   "id": "71962d69",
   "metadata": {},
   "outputs": [
    {
     "data": {
      "text/plain": [
       "(38646, 289562)"
      ]
     },
     "execution_count": 11,
     "metadata": {},
     "output_type": "execute_result"
    }
   ],
   "source": [
    "message_bow.shape"
   ]
  },
  {
   "cell_type": "code",
   "execution_count": 12,
   "id": "3ce188b4",
   "metadata": {},
   "outputs": [],
   "source": [
    "from sklearn.model_selection import train_test_split\n",
    "X_train, X_test, y_train, y_test = train_test_split(message_bow, df['label'], test_size = 0.20, random_state = 0)"
   ]
  },
  {
   "cell_type": "code",
   "execution_count": 13,
   "id": "c758397c",
   "metadata": {},
   "outputs": [
    {
     "data": {
      "text/plain": [
       "MultinomialNB()"
      ]
     },
     "execution_count": 13,
     "metadata": {},
     "output_type": "execute_result"
    }
   ],
   "source": [
    "from sklearn.naive_bayes import MultinomialNB\n",
    "classifier = MultinomialNB()\n",
    "classifier.fit(X_train, y_train)"
   ]
  },
  {
   "cell_type": "code",
   "execution_count": 14,
   "id": "cf454c80",
   "metadata": {},
   "outputs": [
    {
     "name": "stdout",
     "output_type": "stream",
     "text": [
      "              precision    recall  f1-score   support\n",
      "\n",
      "           0       0.99      0.98      0.99     13965\n",
      "           1       0.98      0.99      0.99     16951\n",
      "\n",
      "    accuracy                           0.99     30916\n",
      "   macro avg       0.99      0.99      0.99     30916\n",
      "weighted avg       0.99      0.99      0.99     30916\n",
      "\n",
      "--------------------------------------------------------------\n",
      "              precision    recall  f1-score   support\n",
      "\n",
      "           0       0.99      0.97      0.98      3490\n",
      "           1       0.98      0.99      0.98      4240\n",
      "\n",
      "    accuracy                           0.98      7730\n",
      "   macro avg       0.98      0.98      0.98      7730\n",
      "weighted avg       0.98      0.98      0.98      7730\n",
      "\n"
     ]
    }
   ],
   "source": [
    "from sklearn.metrics import classification_report, confusion_matrix\n",
    "pred = classifier.predict(X_train)\n",
    "print(classification_report(y_train, pred))\n",
    "print(\"--------------------------------------------------------------\")\n",
    "pred = classifier.predict(X_test)\n",
    "print(classification_report(y_test, pred))"
   ]
  },
  {
   "cell_type": "code",
   "execution_count": 15,
   "id": "6bde59f7",
   "metadata": {},
   "outputs": [
    {
     "data": {
      "text/plain": [
       "array([[3392,   98],\n",
       "       [  39, 4201]])"
      ]
     },
     "execution_count": 15,
     "metadata": {},
     "output_type": "execute_result"
    }
   ],
   "source": [
    "confusion_matrix(y_test,pred, labels=[0,1])"
   ]
  },
  {
   "cell_type": "code",
   "execution_count": 23,
   "id": "0825d3d0",
   "metadata": {},
   "outputs": [],
   "source": [
    "mb2 = cv.transform([\"Life on moon is real | Of animals, he classified nine species of mammalia, and five of ovipara. Among the former is a small kind of rein-deer, the elk, the moose, the horned bear, and the biped beaver. The last resembles the beaver of the earth in every other respect than in its destitution of a tail, and its invariable habit of walking upon only two feet. It carries its young in its arms like a human being, and moves with an easy gliding motion.\"])"
   ]
  },
  {
   "cell_type": "code",
   "execution_count": 25,
   "id": "166f196f",
   "metadata": {},
   "outputs": [
    {
     "data": {
      "text/plain": [
       "array([0])"
      ]
     },
     "execution_count": 25,
     "metadata": {},
     "output_type": "execute_result"
    }
   ],
   "source": [
    "classifier.predict(mb2)"
   ]
  },
  {
   "cell_type": "code",
   "execution_count": 26,
   "id": "dbc92579",
   "metadata": {},
   "outputs": [],
   "source": [
    "mb2 = cv.transform([\"'War is madness,' says Pope Francis, calling for peace in Ukraine | Speaking on Sunday during the Angelus address from his window on St. Peter’s Square, Francis said that the Vatican is willing to do 'everything' it can for peace in Ukraine. Francis said he has sent two cardinals to Ukraine to assist humanitarian efforts, 'not only as a sign of the presence of the Pope,' Francis said, 'but of all people who want to say ‘war is madness, please stop, look at this cruelty!' The Pope called for a 'return to respecting international law' and urged that evacuation corridors be opened so civilians can escape the conflict. 'In Ukraine a river of blood and tears is flowing,' the Pope said. 'It is not just a military operation but a war which creates death and destruction!' Francis also thanked journalists who 'risked their lives' to report on the war. 'Thank you brothers and sisters,' he said to journalists, 'for this service which allows us to be near the drama of the people and to see the cruelty of war.'\"])"
   ]
  },
  {
   "cell_type": "code",
   "execution_count": 27,
   "id": "d67a1379",
   "metadata": {},
   "outputs": [
    {
     "data": {
      "text/plain": [
       "array([1])"
      ]
     },
     "execution_count": 27,
     "metadata": {},
     "output_type": "execute_result"
    }
   ],
   "source": [
    "classifier.predict(mb2)"
   ]
  }
 ],
 "metadata": {
  "kernelspec": {
   "display_name": "Python 3 (ipykernel)",
   "language": "python",
   "name": "python3"
  },
  "language_info": {
   "codemirror_mode": {
    "name": "ipython",
    "version": 3
   },
   "file_extension": ".py",
   "mimetype": "text/x-python",
   "name": "python",
   "nbconvert_exporter": "python",
   "pygments_lexer": "ipython3",
   "version": "3.8.10"
  }
 },
 "nbformat": 4,
 "nbformat_minor": 5
}
